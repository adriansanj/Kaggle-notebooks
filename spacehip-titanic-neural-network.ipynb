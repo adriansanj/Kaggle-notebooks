{
 "cells": [
  {
   "cell_type": "code",
   "execution_count": 1,
   "id": "86284508",
   "metadata": {
    "execution": {
     "iopub.execute_input": "2023-06-07T21:55:45.479175Z",
     "iopub.status.busy": "2023-06-07T21:55:45.478677Z",
     "iopub.status.idle": "2023-06-07T21:55:47.013041Z",
     "shell.execute_reply": "2023-06-07T21:55:47.011461Z"
    },
    "papermill": {
     "duration": 1.546242,
     "end_time": "2023-06-07T21:55:47.016066",
     "exception": false,
     "start_time": "2023-06-07T21:55:45.469824",
     "status": "completed"
    },
    "tags": []
   },
   "outputs": [],
   "source": [
    "import pandas as pd\n",
    "import seaborn as sns\n",
    "import matplotlib.pyplot as plt\n",
    "from sklearn.model_selection import train_test_split\n",
    "from sklearn.preprocessing import StandardScaler, OneHotEncoder\n",
    "from sklearn.impute import SimpleImputer\n",
    "from sklearn.pipeline import make_pipeline\n",
    "from sklearn.compose import make_column_transformer"
   ]
  },
  {
   "cell_type": "markdown",
   "id": "ab1d463b",
   "metadata": {
    "papermill": {
     "duration": 0.005436,
     "end_time": "2023-06-07T21:55:47.027306",
     "exception": false,
     "start_time": "2023-06-07T21:55:47.021870",
     "status": "completed"
    },
    "tags": []
   },
   "source": [
    "# Exploration and Data cleaning"
   ]
  },
  {
   "cell_type": "code",
   "execution_count": 2,
   "id": "8e0b2619",
   "metadata": {
    "execution": {
     "iopub.execute_input": "2023-06-07T21:55:47.040833Z",
     "iopub.status.busy": "2023-06-07T21:55:47.040414Z",
     "iopub.status.idle": "2023-06-07T21:55:47.136697Z",
     "shell.execute_reply": "2023-06-07T21:55:47.135033Z"
    },
    "papermill": {
     "duration": 0.105593,
     "end_time": "2023-06-07T21:55:47.138951",
     "exception": false,
     "start_time": "2023-06-07T21:55:47.033358",
     "status": "completed"
    },
    "tags": []
   },
   "outputs": [
    {
     "data": {
      "text/html": [
       "<div>\n",
       "<style scoped>\n",
       "    .dataframe tbody tr th:only-of-type {\n",
       "        vertical-align: middle;\n",
       "    }\n",
       "\n",
       "    .dataframe tbody tr th {\n",
       "        vertical-align: top;\n",
       "    }\n",
       "\n",
       "    .dataframe thead th {\n",
       "        text-align: right;\n",
       "    }\n",
       "</style>\n",
       "<table border=\"1\" class=\"dataframe\">\n",
       "  <thead>\n",
       "    <tr style=\"text-align: right;\">\n",
       "      <th></th>\n",
       "      <th>PassengerId</th>\n",
       "      <th>HomePlanet</th>\n",
       "      <th>CryoSleep</th>\n",
       "      <th>Cabin</th>\n",
       "      <th>Destination</th>\n",
       "      <th>Age</th>\n",
       "      <th>VIP</th>\n",
       "      <th>RoomService</th>\n",
       "      <th>FoodCourt</th>\n",
       "      <th>ShoppingMall</th>\n",
       "      <th>Spa</th>\n",
       "      <th>VRDeck</th>\n",
       "      <th>Name</th>\n",
       "      <th>Transported</th>\n",
       "    </tr>\n",
       "  </thead>\n",
       "  <tbody>\n",
       "    <tr>\n",
       "      <th>0</th>\n",
       "      <td>0001_01</td>\n",
       "      <td>Europa</td>\n",
       "      <td>False</td>\n",
       "      <td>B/0/P</td>\n",
       "      <td>TRAPPIST-1e</td>\n",
       "      <td>39.0</td>\n",
       "      <td>False</td>\n",
       "      <td>0.0</td>\n",
       "      <td>0.0</td>\n",
       "      <td>0.0</td>\n",
       "      <td>0.0</td>\n",
       "      <td>0.0</td>\n",
       "      <td>Maham Ofracculy</td>\n",
       "      <td>False</td>\n",
       "    </tr>\n",
       "    <tr>\n",
       "      <th>1</th>\n",
       "      <td>0002_01</td>\n",
       "      <td>Earth</td>\n",
       "      <td>False</td>\n",
       "      <td>F/0/S</td>\n",
       "      <td>TRAPPIST-1e</td>\n",
       "      <td>24.0</td>\n",
       "      <td>False</td>\n",
       "      <td>109.0</td>\n",
       "      <td>9.0</td>\n",
       "      <td>25.0</td>\n",
       "      <td>549.0</td>\n",
       "      <td>44.0</td>\n",
       "      <td>Juanna Vines</td>\n",
       "      <td>True</td>\n",
       "    </tr>\n",
       "    <tr>\n",
       "      <th>2</th>\n",
       "      <td>0003_01</td>\n",
       "      <td>Europa</td>\n",
       "      <td>False</td>\n",
       "      <td>A/0/S</td>\n",
       "      <td>TRAPPIST-1e</td>\n",
       "      <td>58.0</td>\n",
       "      <td>True</td>\n",
       "      <td>43.0</td>\n",
       "      <td>3576.0</td>\n",
       "      <td>0.0</td>\n",
       "      <td>6715.0</td>\n",
       "      <td>49.0</td>\n",
       "      <td>Altark Susent</td>\n",
       "      <td>False</td>\n",
       "    </tr>\n",
       "    <tr>\n",
       "      <th>3</th>\n",
       "      <td>0003_02</td>\n",
       "      <td>Europa</td>\n",
       "      <td>False</td>\n",
       "      <td>A/0/S</td>\n",
       "      <td>TRAPPIST-1e</td>\n",
       "      <td>33.0</td>\n",
       "      <td>False</td>\n",
       "      <td>0.0</td>\n",
       "      <td>1283.0</td>\n",
       "      <td>371.0</td>\n",
       "      <td>3329.0</td>\n",
       "      <td>193.0</td>\n",
       "      <td>Solam Susent</td>\n",
       "      <td>False</td>\n",
       "    </tr>\n",
       "    <tr>\n",
       "      <th>4</th>\n",
       "      <td>0004_01</td>\n",
       "      <td>Earth</td>\n",
       "      <td>False</td>\n",
       "      <td>F/1/S</td>\n",
       "      <td>TRAPPIST-1e</td>\n",
       "      <td>16.0</td>\n",
       "      <td>False</td>\n",
       "      <td>303.0</td>\n",
       "      <td>70.0</td>\n",
       "      <td>151.0</td>\n",
       "      <td>565.0</td>\n",
       "      <td>2.0</td>\n",
       "      <td>Willy Santantines</td>\n",
       "      <td>True</td>\n",
       "    </tr>\n",
       "  </tbody>\n",
       "</table>\n",
       "</div>"
      ],
      "text/plain": [
       "  PassengerId HomePlanet CryoSleep  Cabin  Destination   Age    VIP  \\\n",
       "0     0001_01     Europa     False  B/0/P  TRAPPIST-1e  39.0  False   \n",
       "1     0002_01      Earth     False  F/0/S  TRAPPIST-1e  24.0  False   \n",
       "2     0003_01     Europa     False  A/0/S  TRAPPIST-1e  58.0   True   \n",
       "3     0003_02     Europa     False  A/0/S  TRAPPIST-1e  33.0  False   \n",
       "4     0004_01      Earth     False  F/1/S  TRAPPIST-1e  16.0  False   \n",
       "\n",
       "   RoomService  FoodCourt  ShoppingMall     Spa  VRDeck               Name  \\\n",
       "0          0.0        0.0           0.0     0.0     0.0    Maham Ofracculy   \n",
       "1        109.0        9.0          25.0   549.0    44.0       Juanna Vines   \n",
       "2         43.0     3576.0           0.0  6715.0    49.0      Altark Susent   \n",
       "3          0.0     1283.0         371.0  3329.0   193.0       Solam Susent   \n",
       "4        303.0       70.0         151.0   565.0     2.0  Willy Santantines   \n",
       "\n",
       "   Transported  \n",
       "0        False  \n",
       "1         True  \n",
       "2        False  \n",
       "3        False  \n",
       "4         True  "
      ]
     },
     "execution_count": 2,
     "metadata": {},
     "output_type": "execute_result"
    }
   ],
   "source": [
    "data = pd.read_csv('../input/spaceship-titanic/train.csv')\n",
    "test = pd.read_csv('../input/spaceship-titanic/test.csv')\n",
    "data.head()"
   ]
  },
  {
   "cell_type": "code",
   "execution_count": 3,
   "id": "2e5c8a2b",
   "metadata": {
    "execution": {
     "iopub.execute_input": "2023-06-07T21:55:47.152379Z",
     "iopub.status.busy": "2023-06-07T21:55:47.151998Z",
     "iopub.status.idle": "2023-06-07T21:55:47.181775Z",
     "shell.execute_reply": "2023-06-07T21:55:47.180997Z"
    },
    "papermill": {
     "duration": 0.038806,
     "end_time": "2023-06-07T21:55:47.183925",
     "exception": false,
     "start_time": "2023-06-07T21:55:47.145119",
     "status": "completed"
    },
    "tags": []
   },
   "outputs": [
    {
     "name": "stdout",
     "output_type": "stream",
     "text": [
      "<class 'pandas.core.frame.DataFrame'>\n",
      "RangeIndex: 8693 entries, 0 to 8692\n",
      "Data columns (total 14 columns):\n",
      " #   Column        Non-Null Count  Dtype  \n",
      "---  ------        --------------  -----  \n",
      " 0   PassengerId   8693 non-null   object \n",
      " 1   HomePlanet    8492 non-null   object \n",
      " 2   CryoSleep     8476 non-null   object \n",
      " 3   Cabin         8494 non-null   object \n",
      " 4   Destination   8511 non-null   object \n",
      " 5   Age           8514 non-null   float64\n",
      " 6   VIP           8490 non-null   object \n",
      " 7   RoomService   8512 non-null   float64\n",
      " 8   FoodCourt     8510 non-null   float64\n",
      " 9   ShoppingMall  8485 non-null   float64\n",
      " 10  Spa           8510 non-null   float64\n",
      " 11  VRDeck        8505 non-null   float64\n",
      " 12  Name          8493 non-null   object \n",
      " 13  Transported   8693 non-null   bool   \n",
      "dtypes: bool(1), float64(6), object(7)\n",
      "memory usage: 891.5+ KB\n"
     ]
    }
   ],
   "source": [
    "data.info()"
   ]
  },
  {
   "cell_type": "code",
   "execution_count": 4,
   "id": "82181034",
   "metadata": {
    "execution": {
     "iopub.execute_input": "2023-06-07T21:55:47.197671Z",
     "iopub.status.busy": "2023-06-07T21:55:47.196884Z",
     "iopub.status.idle": "2023-06-07T21:55:47.228802Z",
     "shell.execute_reply": "2023-06-07T21:55:47.227142Z"
    },
    "papermill": {
     "duration": 0.041777,
     "end_time": "2023-06-07T21:55:47.231528",
     "exception": false,
     "start_time": "2023-06-07T21:55:47.189751",
     "status": "completed"
    },
    "tags": []
   },
   "outputs": [
    {
     "data": {
      "text/html": [
       "<div>\n",
       "<style scoped>\n",
       "    .dataframe tbody tr th:only-of-type {\n",
       "        vertical-align: middle;\n",
       "    }\n",
       "\n",
       "    .dataframe tbody tr th {\n",
       "        vertical-align: top;\n",
       "    }\n",
       "\n",
       "    .dataframe thead th {\n",
       "        text-align: right;\n",
       "    }\n",
       "</style>\n",
       "<table border=\"1\" class=\"dataframe\">\n",
       "  <thead>\n",
       "    <tr style=\"text-align: right;\">\n",
       "      <th></th>\n",
       "      <th>Age</th>\n",
       "      <th>RoomService</th>\n",
       "      <th>FoodCourt</th>\n",
       "      <th>ShoppingMall</th>\n",
       "      <th>Spa</th>\n",
       "      <th>VRDeck</th>\n",
       "    </tr>\n",
       "  </thead>\n",
       "  <tbody>\n",
       "    <tr>\n",
       "      <th>count</th>\n",
       "      <td>8514.000000</td>\n",
       "      <td>8512.000000</td>\n",
       "      <td>8510.000000</td>\n",
       "      <td>8485.000000</td>\n",
       "      <td>8510.000000</td>\n",
       "      <td>8505.000000</td>\n",
       "    </tr>\n",
       "    <tr>\n",
       "      <th>mean</th>\n",
       "      <td>28.827930</td>\n",
       "      <td>224.687617</td>\n",
       "      <td>458.077203</td>\n",
       "      <td>173.729169</td>\n",
       "      <td>311.138778</td>\n",
       "      <td>304.854791</td>\n",
       "    </tr>\n",
       "    <tr>\n",
       "      <th>std</th>\n",
       "      <td>14.489021</td>\n",
       "      <td>666.717663</td>\n",
       "      <td>1611.489240</td>\n",
       "      <td>604.696458</td>\n",
       "      <td>1136.705535</td>\n",
       "      <td>1145.717189</td>\n",
       "    </tr>\n",
       "    <tr>\n",
       "      <th>min</th>\n",
       "      <td>0.000000</td>\n",
       "      <td>0.000000</td>\n",
       "      <td>0.000000</td>\n",
       "      <td>0.000000</td>\n",
       "      <td>0.000000</td>\n",
       "      <td>0.000000</td>\n",
       "    </tr>\n",
       "    <tr>\n",
       "      <th>25%</th>\n",
       "      <td>19.000000</td>\n",
       "      <td>0.000000</td>\n",
       "      <td>0.000000</td>\n",
       "      <td>0.000000</td>\n",
       "      <td>0.000000</td>\n",
       "      <td>0.000000</td>\n",
       "    </tr>\n",
       "    <tr>\n",
       "      <th>50%</th>\n",
       "      <td>27.000000</td>\n",
       "      <td>0.000000</td>\n",
       "      <td>0.000000</td>\n",
       "      <td>0.000000</td>\n",
       "      <td>0.000000</td>\n",
       "      <td>0.000000</td>\n",
       "    </tr>\n",
       "    <tr>\n",
       "      <th>75%</th>\n",
       "      <td>38.000000</td>\n",
       "      <td>47.000000</td>\n",
       "      <td>76.000000</td>\n",
       "      <td>27.000000</td>\n",
       "      <td>59.000000</td>\n",
       "      <td>46.000000</td>\n",
       "    </tr>\n",
       "    <tr>\n",
       "      <th>max</th>\n",
       "      <td>79.000000</td>\n",
       "      <td>14327.000000</td>\n",
       "      <td>29813.000000</td>\n",
       "      <td>23492.000000</td>\n",
       "      <td>22408.000000</td>\n",
       "      <td>24133.000000</td>\n",
       "    </tr>\n",
       "  </tbody>\n",
       "</table>\n",
       "</div>"
      ],
      "text/plain": [
       "               Age   RoomService     FoodCourt  ShoppingMall           Spa  \\\n",
       "count  8514.000000   8512.000000   8510.000000   8485.000000   8510.000000   \n",
       "mean     28.827930    224.687617    458.077203    173.729169    311.138778   \n",
       "std      14.489021    666.717663   1611.489240    604.696458   1136.705535   \n",
       "min       0.000000      0.000000      0.000000      0.000000      0.000000   \n",
       "25%      19.000000      0.000000      0.000000      0.000000      0.000000   \n",
       "50%      27.000000      0.000000      0.000000      0.000000      0.000000   \n",
       "75%      38.000000     47.000000     76.000000     27.000000     59.000000   \n",
       "max      79.000000  14327.000000  29813.000000  23492.000000  22408.000000   \n",
       "\n",
       "             VRDeck  \n",
       "count   8505.000000  \n",
       "mean     304.854791  \n",
       "std     1145.717189  \n",
       "min        0.000000  \n",
       "25%        0.000000  \n",
       "50%        0.000000  \n",
       "75%       46.000000  \n",
       "max    24133.000000  "
      ]
     },
     "execution_count": 4,
     "metadata": {},
     "output_type": "execute_result"
    }
   ],
   "source": [
    "data.describe()"
   ]
  },
  {
   "cell_type": "markdown",
   "id": "2dbb1fbb",
   "metadata": {
    "papermill": {
     "duration": 0.005671,
     "end_time": "2023-06-07T21:55:47.243580",
     "exception": false,
     "start_time": "2023-06-07T21:55:47.237909",
     "status": "completed"
    },
    "tags": []
   },
   "source": [
    "### Outlier detection"
   ]
  },
  {
   "cell_type": "code",
   "execution_count": 5,
   "id": "11ddac0a",
   "metadata": {
    "_kg_hide-input": true,
    "execution": {
     "iopub.execute_input": "2023-06-07T21:55:47.258610Z",
     "iopub.status.busy": "2023-06-07T21:55:47.257286Z",
     "iopub.status.idle": "2023-06-07T21:55:47.867705Z",
     "shell.execute_reply": "2023-06-07T21:55:47.866678Z"
    },
    "papermill": {
     "duration": 0.620192,
     "end_time": "2023-06-07T21:55:47.869994",
     "exception": false,
     "start_time": "2023-06-07T21:55:47.249802",
     "status": "completed"
    },
    "tags": []
   },
   "outputs": [
    {
     "name": "stderr",
     "output_type": "stream",
     "text": [
      "/opt/conda/lib/python3.7/site-packages/seaborn/_decorators.py:43: FutureWarning: Pass the following variable as a keyword arg: x. From version 0.12, the only valid positional argument will be `data`, and passing other arguments without an explicit keyword will result in an error or misinterpretation.\n",
      "  FutureWarning\n",
      "/opt/conda/lib/python3.7/site-packages/seaborn/_decorators.py:43: FutureWarning: Pass the following variable as a keyword arg: x. From version 0.12, the only valid positional argument will be `data`, and passing other arguments without an explicit keyword will result in an error or misinterpretation.\n",
      "  FutureWarning\n",
      "/opt/conda/lib/python3.7/site-packages/seaborn/_decorators.py:43: FutureWarning: Pass the following variable as a keyword arg: x. From version 0.12, the only valid positional argument will be `data`, and passing other arguments without an explicit keyword will result in an error or misinterpretation.\n",
      "  FutureWarning\n",
      "/opt/conda/lib/python3.7/site-packages/seaborn/_decorators.py:43: FutureWarning: Pass the following variable as a keyword arg: x. From version 0.12, the only valid positional argument will be `data`, and passing other arguments without an explicit keyword will result in an error or misinterpretation.\n",
      "  FutureWarning\n",
      "/opt/conda/lib/python3.7/site-packages/seaborn/_decorators.py:43: FutureWarning: Pass the following variable as a keyword arg: x. From version 0.12, the only valid positional argument will be `data`, and passing other arguments without an explicit keyword will result in an error or misinterpretation.\n",
      "  FutureWarning\n",
      "/opt/conda/lib/python3.7/site-packages/seaborn/_decorators.py:43: FutureWarning: Pass the following variable as a keyword arg: x. From version 0.12, the only valid positional argument will be `data`, and passing other arguments without an explicit keyword will result in an error or misinterpretation.\n",
      "  FutureWarning\n"
     ]
    },
    {
     "data": {
      "image/png": "[encoded data removed]",
      "text/plain": [
       "<Figure size 1440x720 with 6 Axes>"
      ]
     },
     "metadata": {
      "needs_background": "light"
     },
     "output_type": "display_data"
    }
   ],
   "source": [
    "fig = plt.figure(figsize = (20, 10))\n",
    "cont = 1\n",
    "for i in range(len(data.dtypes)):\n",
    "    if data.dtypes[i] == 'float64':\n",
    "        p = fig.add_subplot(3, 2, cont)\n",
    "        #We plot only !=0 values to see true outliers\n",
    "        sns.boxplot(data[data[data.columns[i]] != 0][data.columns[i]])\n",
    "        p.set_ylabel(data.columns[i])\n",
    "        p.set_xlabel('')\n",
    "        cont+=1"
   ]
  },
  {
   "cell_type": "code",
   "execution_count": 6,
   "id": "4af075ee",
   "metadata": {
    "execution": {
     "iopub.execute_input": "2023-06-07T21:55:47.885863Z",
     "iopub.status.busy": "2023-06-07T21:55:47.885410Z",
     "iopub.status.idle": "2023-06-07T21:55:47.903988Z",
     "shell.execute_reply": "2023-06-07T21:55:47.903072Z"
    },
    "papermill": {
     "duration": 0.029522,
     "end_time": "2023-06-07T21:55:47.905996",
     "exception": false,
     "start_time": "2023-06-07T21:55:47.876474",
     "status": "completed"
    },
    "tags": []
   },
   "outputs": [
    {
     "data": {
      "text/plain": [
       "(8688, 14)"
      ]
     },
     "execution_count": 6,
     "metadata": {},
     "output_type": "execute_result"
    }
   ],
   "source": [
    "#Excluding what I consider true outliers\n",
    "data = data[(data['RoomService'] < 14000) | (pd.isna(data['RoomService']))]\n",
    "data = data[(data['ShoppingMall'] < 20000)| (pd.isna(data['ShoppingMall']))]\n",
    "data = data[(data['Spa'] < 20000)| (pd.isna(data['Spa']))]\n",
    "data = data[(data['VRDeck'] < 20000)| (pd.isna(data['VRDeck']))]\n",
    "#data\n",
    "data.shape"
   ]
  },
  {
   "cell_type": "code",
   "execution_count": 7,
   "id": "50ddd830",
   "metadata": {
    "execution": {
     "iopub.execute_input": "2023-06-07T21:55:47.921628Z",
     "iopub.status.busy": "2023-06-07T21:55:47.920520Z",
     "iopub.status.idle": "2023-06-07T21:55:47.958275Z",
     "shell.execute_reply": "2023-06-07T21:55:47.956852Z"
    },
    "papermill": {
     "duration": 0.048278,
     "end_time": "2023-06-07T21:55:47.961037",
     "exception": false,
     "start_time": "2023-06-07T21:55:47.912759",
     "status": "completed"
    },
    "tags": []
   },
   "outputs": [
    {
     "data": {
      "text/html": [
       "<div>\n",
       "<style scoped>\n",
       "    .dataframe tbody tr th:only-of-type {\n",
       "        vertical-align: middle;\n",
       "    }\n",
       "\n",
       "    .dataframe tbody tr th {\n",
       "        vertical-align: top;\n",
       "    }\n",
       "\n",
       "    .dataframe thead th {\n",
       "        text-align: right;\n",
       "    }\n",
       "</style>\n",
       "<table border=\"1\" class=\"dataframe\">\n",
       "  <thead>\n",
       "    <tr style=\"text-align: right;\">\n",
       "      <th></th>\n",
       "      <th>Age</th>\n",
       "      <th>RoomService</th>\n",
       "      <th>FoodCourt</th>\n",
       "      <th>ShoppingMall</th>\n",
       "      <th>Spa</th>\n",
       "      <th>VRDeck</th>\n",
       "      <th>Transported</th>\n",
       "    </tr>\n",
       "  </thead>\n",
       "  <tbody>\n",
       "    <tr>\n",
       "      <th>count</th>\n",
       "      <td>8509.000000</td>\n",
       "      <td>8507.000000</td>\n",
       "      <td>8505.000000</td>\n",
       "      <td>8480.000000</td>\n",
       "      <td>8506.000000</td>\n",
       "      <td>8500.000000</td>\n",
       "      <td>8688.000000</td>\n",
       "    </tr>\n",
       "    <tr>\n",
       "      <th>mean</th>\n",
       "      <td>28.821366</td>\n",
       "      <td>223.097332</td>\n",
       "      <td>455.763433</td>\n",
       "      <td>171.035731</td>\n",
       "      <td>308.535269</td>\n",
       "      <td>299.800118</td>\n",
       "      <td>0.503798</td>\n",
       "    </tr>\n",
       "    <tr>\n",
       "      <th>std</th>\n",
       "      <td>14.483233</td>\n",
       "      <td>649.135976</td>\n",
       "      <td>1604.345238</td>\n",
       "      <td>549.297028</td>\n",
       "      <td>1111.425817</td>\n",
       "      <td>1095.155945</td>\n",
       "      <td>0.500014</td>\n",
       "    </tr>\n",
       "    <tr>\n",
       "      <th>min</th>\n",
       "      <td>0.000000</td>\n",
       "      <td>0.000000</td>\n",
       "      <td>0.000000</td>\n",
       "      <td>0.000000</td>\n",
       "      <td>0.000000</td>\n",
       "      <td>0.000000</td>\n",
       "      <td>0.000000</td>\n",
       "    </tr>\n",
       "    <tr>\n",
       "      <th>25%</th>\n",
       "      <td>19.000000</td>\n",
       "      <td>0.000000</td>\n",
       "      <td>0.000000</td>\n",
       "      <td>0.000000</td>\n",
       "      <td>0.000000</td>\n",
       "      <td>0.000000</td>\n",
       "      <td>0.000000</td>\n",
       "    </tr>\n",
       "    <tr>\n",
       "      <th>50%</th>\n",
       "      <td>27.000000</td>\n",
       "      <td>0.000000</td>\n",
       "      <td>0.000000</td>\n",
       "      <td>0.000000</td>\n",
       "      <td>0.000000</td>\n",
       "      <td>0.000000</td>\n",
       "      <td>1.000000</td>\n",
       "    </tr>\n",
       "    <tr>\n",
       "      <th>75%</th>\n",
       "      <td>38.000000</td>\n",
       "      <td>46.000000</td>\n",
       "      <td>76.000000</td>\n",
       "      <td>27.000000</td>\n",
       "      <td>59.000000</td>\n",
       "      <td>46.000000</td>\n",
       "      <td>1.000000</td>\n",
       "    </tr>\n",
       "    <tr>\n",
       "      <th>max</th>\n",
       "      <td>79.000000</td>\n",
       "      <td>9920.000000</td>\n",
       "      <td>29813.000000</td>\n",
       "      <td>12253.000000</td>\n",
       "      <td>18572.000000</td>\n",
       "      <td>17306.000000</td>\n",
       "      <td>1.000000</td>\n",
       "    </tr>\n",
       "  </tbody>\n",
       "</table>\n",
       "</div>"
      ],
      "text/plain": [
       "               Age  RoomService     FoodCourt  ShoppingMall           Spa  \\\n",
       "count  8509.000000  8507.000000   8505.000000   8480.000000   8506.000000   \n",
       "mean     28.821366   223.097332    455.763433    171.035731    308.535269   \n",
       "std      14.483233   649.135976   1604.345238    549.297028   1111.425817   \n",
       "min       0.000000     0.000000      0.000000      0.000000      0.000000   \n",
       "25%      19.000000     0.000000      0.000000      0.000000      0.000000   \n",
       "50%      27.000000     0.000000      0.000000      0.000000      0.000000   \n",
       "75%      38.000000    46.000000     76.000000     27.000000     59.000000   \n",
       "max      79.000000  9920.000000  29813.000000  12253.000000  18572.000000   \n",
       "\n",
       "             VRDeck  Transported  \n",
       "count   8500.000000  8688.000000  \n",
       "mean     299.800118     0.503798  \n",
       "std     1095.155945     0.500014  \n",
       "min        0.000000     0.000000  \n",
       "25%        0.000000     0.000000  \n",
       "50%        0.000000     1.000000  \n",
       "75%       46.000000     1.000000  \n",
       "max    17306.000000     1.000000  "
      ]
     },
     "execution_count": 7,
     "metadata": {},
     "output_type": "execute_result"
    }
   ],
   "source": [
    "data = data.set_index('PassengerId')\n",
    "test = test.set_index('PassengerId')\n",
    "data['Transported'] = data['Transported'].map({True: 1, False: 0})                \n",
    "data.describe()"
   ]
  },
  {
   "cell_type": "code",
   "execution_count": 8,
   "id": "64cc72a0",
   "metadata": {
    "execution": {
     "iopub.execute_input": "2023-06-07T21:55:47.978193Z",
     "iopub.status.busy": "2023-06-07T21:55:47.976735Z",
     "iopub.status.idle": "2023-06-07T21:55:48.030541Z",
     "shell.execute_reply": "2023-06-07T21:55:48.029167Z"
    },
    "papermill": {
     "duration": 0.065514,
     "end_time": "2023-06-07T21:55:48.033773",
     "exception": false,
     "start_time": "2023-06-07T21:55:47.968259",
     "status": "completed"
    },
    "tags": []
   },
   "outputs": [],
   "source": [
    "# df with all data except name (ASSUMIING name has no impact on the output)\n",
    "df =  data.drop(['Name'] , axis=1)\n",
    "# creating new columns from PassengerId and Cabin columns\n",
    "# new column group\n",
    "df['Group'] = df.index.str[:4]\n",
    "df['Group'] = df.Group.astype(int)\n",
    "# new column number in group\n",
    "df['Number'] = df.index.str[-2:]\n",
    "df['Number'] = df.Number.astype(int)\n",
    "# new column Deck\n",
    "df['Deck'] = df.Cabin.str[0]\n",
    "# new column NumCabin\n",
    "df['NumCabin'] = df.Cabin.str[2:-2]\n",
    "# new column Side\n",
    "df['Side'] = df.Cabin.str[-1]\n",
    "df = df.drop('Cabin', axis = 1)\n",
    "\n",
    "# SAME CHANGES FOR TEST\n",
    "# df with all data except name (ASSUMIING name has no impact on the output)\n",
    "test =  test.drop(['Name'] , axis=1)\n",
    "# creating new columns from PassengerId and Cabin columns\n",
    "# new column group\n",
    "test['Group'] = test.index.str[:4]\n",
    "test['Group'] = test.Group.astype(int)\n",
    "# new column number in group\n",
    "test['Number'] = test.index.str[-2:]\n",
    "test['Number'] = test.Number.astype(int)\n",
    "# new column Deck\n",
    "test['Deck'] = test.Cabin.str[0]\n",
    "# new column NumCabin\n",
    "test['NumCabin'] = test.Cabin.str[2:-2]\n",
    "# new column Side\n",
    "test['Side'] = test.Cabin.str[-1]\n",
    "test = test.drop('Cabin', axis = 1)\n"
   ]
  },
  {
   "cell_type": "code",
   "execution_count": 9,
   "id": "49466679",
   "metadata": {
    "execution": {
     "iopub.execute_input": "2023-06-07T21:55:48.049267Z",
     "iopub.status.busy": "2023-06-07T21:55:48.048937Z",
     "iopub.status.idle": "2023-06-07T21:55:48.063463Z",
     "shell.execute_reply": "2023-06-07T21:55:48.062695Z"
    },
    "papermill": {
     "duration": 0.025024,
     "end_time": "2023-06-07T21:55:48.065933",
     "exception": false,
     "start_time": "2023-06-07T21:55:48.040909",
     "status": "completed"
    },
    "tags": []
   },
   "outputs": [
    {
     "data": {
      "text/plain": [
       "HomePlanet      201\n",
       "CryoSleep       217\n",
       "Destination     182\n",
       "Age             179\n",
       "VIP             203\n",
       "RoomService     181\n",
       "FoodCourt       183\n",
       "ShoppingMall    208\n",
       "Spa             182\n",
       "VRDeck          188\n",
       "Transported       0\n",
       "Group             0\n",
       "Number            0\n",
       "Deck            198\n",
       "NumCabin        198\n",
       "Side            198\n",
       "dtype: int64"
      ]
     },
     "execution_count": 9,
     "metadata": {},
     "output_type": "execute_result"
    }
   ],
   "source": [
    "df.isnull().sum()"
   ]
  },
  {
   "cell_type": "code",
   "execution_count": 10,
   "id": "2674defa",
   "metadata": {
    "execution": {
     "iopub.execute_input": "2023-06-07T21:55:48.081754Z",
     "iopub.status.busy": "2023-06-07T21:55:48.081248Z",
     "iopub.status.idle": "2023-06-07T21:55:48.205244Z",
     "shell.execute_reply": "2023-06-07T21:55:48.203733Z"
    },
    "papermill": {
     "duration": 0.135103,
     "end_time": "2023-06-07T21:55:48.208127",
     "exception": false,
     "start_time": "2023-06-07T21:55:48.073024",
     "status": "completed"
    },
    "tags": []
   },
   "outputs": [
    {
     "name": "stdout",
     "output_type": "stream",
     "text": [
      "HomePlanet      0\n",
      "CryoSleep       0\n",
      "Destination     0\n",
      "Age             0\n",
      "VIP             0\n",
      "RoomService     0\n",
      "FoodCourt       0\n",
      "ShoppingMall    0\n",
      "Spa             0\n",
      "VRDeck          0\n",
      "Transported     0\n",
      "Group           0\n",
      "Number          0\n",
      "Deck            0\n",
      "NumCabin        0\n",
      "Side            0\n",
      "dtype: int64\n",
      "HomePlanet      0\n",
      "CryoSleep       0\n",
      "Destination     0\n",
      "Age             0\n",
      "VIP             0\n",
      "RoomService     0\n",
      "FoodCourt       0\n",
      "ShoppingMall    0\n",
      "Spa             0\n",
      "VRDeck          0\n",
      "Group           0\n",
      "Number          0\n",
      "Deck            0\n",
      "NumCabin        0\n",
      "Side            0\n",
      "dtype: int64\n"
     ]
    }
   ],
   "source": [
    "def fillnull(df):\n",
    "    notest = 'Transported' in df.columns\n",
    "    for i in range(len(df.columns)):\n",
    "        if(df.dtypes[i] == float):\n",
    "            if notest:\n",
    "                df[df.columns[i]] = df[df.columns[i]].fillna(df.groupby(['Group','Transported'])[df.columns[i]].transform('mean'))\n",
    "            df[df.columns[i]] = df[df.columns[i]].fillna(df.groupby(['Group'])[df.columns[i]].transform('mean'))\n",
    "            if notest:\n",
    "                df[df.columns[i]] = df[df.columns[i]].fillna(df.groupby(['Transported'])[df.columns[i]].transform('mean'))\n",
    "            df[df.columns[i]].fillna(df[df.columns[i]].mean(), inplace=True)\n",
    "        else:\n",
    "            #I need to figure out how to replace null values with the mode of their groups in cathegorical columns as i do with\n",
    "            #the mean in numeric columns\n",
    "            if notest:\n",
    "                df.dropna(inplace = True)\n",
    "            else:\n",
    "                df[df.columns[i]] = df[df.columns[i]].fillna(df[df.columns[i]].mode()[0])\n",
    "    print(df.isnull().sum())\n",
    "\n",
    "fillnull(df)\n",
    "fillnull(test)\n",
    "\n",
    "df['CryoSleep'] = df['CryoSleep'] ==True\n",
    "df['VIP'] = df['VIP'] ==True"
   ]
  },
  {
   "cell_type": "code",
   "execution_count": 11,
   "id": "90d1dbd8",
   "metadata": {
    "execution": {
     "iopub.execute_input": "2023-06-07T21:55:48.224469Z",
     "iopub.status.busy": "2023-06-07T21:55:48.224087Z",
     "iopub.status.idle": "2023-06-07T21:55:48.233165Z",
     "shell.execute_reply": "2023-06-07T21:55:48.231588Z"
    },
    "papermill": {
     "duration": 0.019847,
     "end_time": "2023-06-07T21:55:48.235424",
     "exception": false,
     "start_time": "2023-06-07T21:55:48.215577",
     "status": "completed"
    },
    "tags": []
   },
   "outputs": [],
   "source": [
    "df['NumCabin'] = df.NumCabin.astype(int)\n",
    "test['NumCabin'] = test.NumCabin.astype(int)"
   ]
  },
  {
   "cell_type": "code",
   "execution_count": 12,
   "id": "9cc4d627",
   "metadata": {
    "execution": {
     "iopub.execute_input": "2023-06-07T21:55:48.251493Z",
     "iopub.status.busy": "2023-06-07T21:55:48.251108Z",
     "iopub.status.idle": "2023-06-07T21:55:48.273060Z",
     "shell.execute_reply": "2023-06-07T21:55:48.271879Z"
    },
    "papermill": {
     "duration": 0.032843,
     "end_time": "2023-06-07T21:55:48.275511",
     "exception": false,
     "start_time": "2023-06-07T21:55:48.242668",
     "status": "completed"
    },
    "tags": []
   },
   "outputs": [
    {
     "data": {
      "text/html": [
       "<div>\n",
       "<style scoped>\n",
       "    .dataframe tbody tr th:only-of-type {\n",
       "        vertical-align: middle;\n",
       "    }\n",
       "\n",
       "    .dataframe tbody tr th {\n",
       "        vertical-align: top;\n",
       "    }\n",
       "\n",
       "    .dataframe thead th {\n",
       "        text-align: right;\n",
       "    }\n",
       "</style>\n",
       "<table border=\"1\" class=\"dataframe\">\n",
       "  <thead>\n",
       "    <tr style=\"text-align: right;\">\n",
       "      <th></th>\n",
       "      <th>CryoSleep</th>\n",
       "      <th>Age</th>\n",
       "      <th>VIP</th>\n",
       "      <th>RoomService</th>\n",
       "      <th>FoodCourt</th>\n",
       "      <th>ShoppingMall</th>\n",
       "      <th>Spa</th>\n",
       "      <th>VRDeck</th>\n",
       "      <th>Transported</th>\n",
       "      <th>Group</th>\n",
       "      <th>Number</th>\n",
       "      <th>NumCabin</th>\n",
       "    </tr>\n",
       "  </thead>\n",
       "  <tbody>\n",
       "    <tr>\n",
       "      <th>CryoSleep</th>\n",
       "      <td>1.000000</td>\n",
       "      <td>-0.081616</td>\n",
       "      <td>-0.081991</td>\n",
       "      <td>-0.255296</td>\n",
       "      <td>-0.210736</td>\n",
       "      <td>-0.228295</td>\n",
       "      <td>-0.206760</td>\n",
       "      <td>-0.202074</td>\n",
       "      <td>0.461527</td>\n",
       "      <td>-0.001321</td>\n",
       "      <td>0.067032</td>\n",
       "      <td>-0.034324</td>\n",
       "    </tr>\n",
       "    <tr>\n",
       "      <th>Age</th>\n",
       "      <td>-0.081616</td>\n",
       "      <td>1.000000</td>\n",
       "      <td>0.097015</td>\n",
       "      <td>0.071015</td>\n",
       "      <td>0.132863</td>\n",
       "      <td>0.041587</td>\n",
       "      <td>0.119488</td>\n",
       "      <td>0.105814</td>\n",
       "      <td>-0.080058</td>\n",
       "      <td>-0.004654</td>\n",
       "      <td>-0.132945</td>\n",
       "      <td>-0.136444</td>\n",
       "    </tr>\n",
       "    <tr>\n",
       "      <th>VIP</th>\n",
       "      <td>-0.081991</td>\n",
       "      <td>0.097015</td>\n",
       "      <td>1.000000</td>\n",
       "      <td>0.027327</td>\n",
       "      <td>0.137363</td>\n",
       "      <td>0.014792</td>\n",
       "      <td>0.068167</td>\n",
       "      <td>0.131470</td>\n",
       "      <td>-0.039366</td>\n",
       "      <td>0.016436</td>\n",
       "      <td>-0.006199</td>\n",
       "      <td>-0.107136</td>\n",
       "    </tr>\n",
       "    <tr>\n",
       "      <th>RoomService</th>\n",
       "      <td>-0.255296</td>\n",
       "      <td>0.071015</td>\n",
       "      <td>0.027327</td>\n",
       "      <td>1.000000</td>\n",
       "      <td>-0.014246</td>\n",
       "      <td>0.061803</td>\n",
       "      <td>0.011314</td>\n",
       "      <td>-0.021277</td>\n",
       "      <td>-0.247884</td>\n",
       "      <td>-0.004661</td>\n",
       "      <td>-0.026164</td>\n",
       "      <td>-0.009587</td>\n",
       "    </tr>\n",
       "    <tr>\n",
       "      <th>FoodCourt</th>\n",
       "      <td>-0.210736</td>\n",
       "      <td>0.132863</td>\n",
       "      <td>0.137363</td>\n",
       "      <td>-0.014246</td>\n",
       "      <td>1.000000</td>\n",
       "      <td>-0.012529</td>\n",
       "      <td>0.204956</td>\n",
       "      <td>0.216543</td>\n",
       "      <td>0.055874</td>\n",
       "      <td>-0.007658</td>\n",
       "      <td>0.026422</td>\n",
       "      <td>-0.186870</td>\n",
       "    </tr>\n",
       "    <tr>\n",
       "      <th>ShoppingMall</th>\n",
       "      <td>-0.228295</td>\n",
       "      <td>0.041587</td>\n",
       "      <td>0.014792</td>\n",
       "      <td>0.061803</td>\n",
       "      <td>-0.012529</td>\n",
       "      <td>1.000000</td>\n",
       "      <td>0.022670</td>\n",
       "      <td>-0.000840</td>\n",
       "      <td>0.010710</td>\n",
       "      <td>0.020402</td>\n",
       "      <td>-0.040198</td>\n",
       "      <td>0.005841</td>\n",
       "    </tr>\n",
       "    <tr>\n",
       "      <th>Spa</th>\n",
       "      <td>-0.206760</td>\n",
       "      <td>0.119488</td>\n",
       "      <td>0.068167</td>\n",
       "      <td>0.011314</td>\n",
       "      <td>0.204956</td>\n",
       "      <td>0.022670</td>\n",
       "      <td>1.000000</td>\n",
       "      <td>0.158502</td>\n",
       "      <td>-0.223574</td>\n",
       "      <td>-0.012555</td>\n",
       "      <td>0.021460</td>\n",
       "      <td>-0.138462</td>\n",
       "    </tr>\n",
       "    <tr>\n",
       "      <th>VRDeck</th>\n",
       "      <td>-0.202074</td>\n",
       "      <td>0.105814</td>\n",
       "      <td>0.131470</td>\n",
       "      <td>-0.021277</td>\n",
       "      <td>0.216543</td>\n",
       "      <td>-0.000840</td>\n",
       "      <td>0.158502</td>\n",
       "      <td>1.000000</td>\n",
       "      <td>-0.210132</td>\n",
       "      <td>0.007302</td>\n",
       "      <td>0.007474</td>\n",
       "      <td>-0.143903</td>\n",
       "    </tr>\n",
       "    <tr>\n",
       "      <th>Transported</th>\n",
       "      <td>0.461527</td>\n",
       "      <td>-0.080058</td>\n",
       "      <td>-0.039366</td>\n",
       "      <td>-0.247884</td>\n",
       "      <td>0.055874</td>\n",
       "      <td>0.010710</td>\n",
       "      <td>-0.223574</td>\n",
       "      <td>-0.210132</td>\n",
       "      <td>1.000000</td>\n",
       "      <td>0.025938</td>\n",
       "      <td>0.074286</td>\n",
       "      <td>-0.044888</td>\n",
       "    </tr>\n",
       "    <tr>\n",
       "      <th>Group</th>\n",
       "      <td>-0.001321</td>\n",
       "      <td>-0.004654</td>\n",
       "      <td>0.016436</td>\n",
       "      <td>-0.004661</td>\n",
       "      <td>-0.007658</td>\n",
       "      <td>0.020402</td>\n",
       "      <td>-0.012555</td>\n",
       "      <td>0.007302</td>\n",
       "      <td>0.025938</td>\n",
       "      <td>1.000000</td>\n",
       "      <td>0.006562</td>\n",
       "      <td>0.677043</td>\n",
       "    </tr>\n",
       "    <tr>\n",
       "      <th>Number</th>\n",
       "      <td>0.067032</td>\n",
       "      <td>-0.132945</td>\n",
       "      <td>-0.006199</td>\n",
       "      <td>-0.026164</td>\n",
       "      <td>0.026422</td>\n",
       "      <td>-0.040198</td>\n",
       "      <td>0.021460</td>\n",
       "      <td>0.007474</td>\n",
       "      <td>0.074286</td>\n",
       "      <td>0.006562</td>\n",
       "      <td>1.000000</td>\n",
       "      <td>-0.038202</td>\n",
       "    </tr>\n",
       "    <tr>\n",
       "      <th>NumCabin</th>\n",
       "      <td>-0.034324</td>\n",
       "      <td>-0.136444</td>\n",
       "      <td>-0.107136</td>\n",
       "      <td>-0.009587</td>\n",
       "      <td>-0.186870</td>\n",
       "      <td>0.005841</td>\n",
       "      <td>-0.138462</td>\n",
       "      <td>-0.143903</td>\n",
       "      <td>-0.044888</td>\n",
       "      <td>0.677043</td>\n",
       "      <td>-0.038202</td>\n",
       "      <td>1.000000</td>\n",
       "    </tr>\n",
       "  </tbody>\n",
       "</table>\n",
       "</div>"
      ],
      "text/plain": [
       "              CryoSleep       Age       VIP  RoomService  FoodCourt  \\\n",
       "CryoSleep      1.000000 -0.081616 -0.081991    -0.255296  -0.210736   \n",
       "Age           -0.081616  1.000000  0.097015     0.071015   0.132863   \n",
       "VIP           -0.081991  0.097015  1.000000     0.027327   0.137363   \n",
       "RoomService   -0.255296  0.071015  0.027327     1.000000  -0.014246   \n",
       "FoodCourt     -0.210736  0.132863  0.137363    -0.014246   1.000000   \n",
       "ShoppingMall  -0.228295  0.041587  0.014792     0.061803  -0.012529   \n",
       "Spa           -0.206760  0.119488  0.068167     0.011314   0.204956   \n",
       "VRDeck        -0.202074  0.105814  0.131470    -0.021277   0.216543   \n",
       "Transported    0.461527 -0.080058 -0.039366    -0.247884   0.055874   \n",
       "Group         -0.001321 -0.004654  0.016436    -0.004661  -0.007658   \n",
       "Number         0.067032 -0.132945 -0.006199    -0.026164   0.026422   \n",
       "NumCabin      -0.034324 -0.136444 -0.107136    -0.009587  -0.186870   \n",
       "\n",
       "              ShoppingMall       Spa    VRDeck  Transported     Group  \\\n",
       "CryoSleep        -0.228295 -0.206760 -0.202074     0.461527 -0.001321   \n",
       "Age               0.041587  0.119488  0.105814    -0.080058 -0.004654   \n",
       "VIP               0.014792  0.068167  0.131470    -0.039366  0.016436   \n",
       "RoomService       0.061803  0.011314 -0.021277    -0.247884 -0.004661   \n",
       "FoodCourt        -0.012529  0.204956  0.216543     0.055874 -0.007658   \n",
       "ShoppingMall      1.000000  0.022670 -0.000840     0.010710  0.020402   \n",
       "Spa               0.022670  1.000000  0.158502    -0.223574 -0.012555   \n",
       "VRDeck           -0.000840  0.158502  1.000000    -0.210132  0.007302   \n",
       "Transported       0.010710 -0.223574 -0.210132     1.000000  0.025938   \n",
       "Group             0.020402 -0.012555  0.007302     0.025938  1.000000   \n",
       "Number           -0.040198  0.021460  0.007474     0.074286  0.006562   \n",
       "NumCabin          0.005841 -0.138462 -0.143903    -0.044888  0.677043   \n",
       "\n",
       "                Number  NumCabin  \n",
       "CryoSleep     0.067032 -0.034324  \n",
       "Age          -0.132945 -0.136444  \n",
       "VIP          -0.006199 -0.107136  \n",
       "RoomService  -0.026164 -0.009587  \n",
       "FoodCourt     0.026422 -0.186870  \n",
       "ShoppingMall -0.040198  0.005841  \n",
       "Spa           0.021460 -0.138462  \n",
       "VRDeck        0.007474 -0.143903  \n",
       "Transported   0.074286 -0.044888  \n",
       "Group         0.006562  0.677043  \n",
       "Number        1.000000 -0.038202  \n",
       "NumCabin     -0.038202  1.000000  "
      ]
     },
     "execution_count": 12,
     "metadata": {},
     "output_type": "execute_result"
    }
   ],
   "source": [
    "df.corr()"
   ]
  },
  {
   "cell_type": "markdown",
   "id": "a80a7093",
   "metadata": {
    "papermill": {
     "duration": 0.007149,
     "end_time": "2023-06-07T21:55:48.290227",
     "exception": false,
     "start_time": "2023-06-07T21:55:48.283078",
     "status": "completed"
    },
    "tags": []
   },
   "source": [
    "Transported very positively correlated with Cryosleep and negatively correlated RoomService, Spa and VRDeck."
   ]
  },
  {
   "cell_type": "code",
   "execution_count": 13,
   "id": "dc4287ec",
   "metadata": {
    "execution": {
     "iopub.execute_input": "2023-06-07T21:55:48.306878Z",
     "iopub.status.busy": "2023-06-07T21:55:48.306265Z",
     "iopub.status.idle": "2023-06-07T21:55:48.312815Z",
     "shell.execute_reply": "2023-06-07T21:55:48.311825Z"
    },
    "papermill": {
     "duration": 0.01697,
     "end_time": "2023-06-07T21:55:48.314725",
     "exception": false,
     "start_time": "2023-06-07T21:55:48.297755",
     "status": "completed"
    },
    "tags": []
   },
   "outputs": [],
   "source": [
    "target = df['Transported']\n",
    "df =  df.drop(['Transported'] , axis=1)"
   ]
  },
  {
   "cell_type": "code",
   "execution_count": 14,
   "id": "157b0cb6",
   "metadata": {
    "execution": {
     "iopub.execute_input": "2023-06-07T21:55:48.331012Z",
     "iopub.status.busy": "2023-06-07T21:55:48.330554Z",
     "iopub.status.idle": "2023-06-07T21:55:48.338513Z",
     "shell.execute_reply": "2023-06-07T21:55:48.337628Z"
    },
    "papermill": {
     "duration": 0.018785,
     "end_time": "2023-06-07T21:55:48.340951",
     "exception": false,
     "start_time": "2023-06-07T21:55:48.322166",
     "status": "completed"
    },
    "tags": []
   },
   "outputs": [
    {
     "data": {
      "text/plain": [
       "HomePlanet       object\n",
       "CryoSleep          bool\n",
       "Destination      object\n",
       "Age             float64\n",
       "VIP                bool\n",
       "RoomService     float64\n",
       "FoodCourt       float64\n",
       "ShoppingMall    float64\n",
       "Spa             float64\n",
       "VRDeck          float64\n",
       "Group             int64\n",
       "Number            int64\n",
       "Deck             object\n",
       "NumCabin          int64\n",
       "Side             object\n",
       "dtype: object"
      ]
     },
     "execution_count": 14,
     "metadata": {},
     "output_type": "execute_result"
    }
   ],
   "source": [
    "df.dtypes"
   ]
  },
  {
   "cell_type": "code",
   "execution_count": 15,
   "id": "2d46e343",
   "metadata": {
    "execution": {
     "iopub.execute_input": "2023-06-07T21:55:48.358199Z",
     "iopub.status.busy": "2023-06-07T21:55:48.357770Z",
     "iopub.status.idle": "2023-06-07T21:55:48.365793Z",
     "shell.execute_reply": "2023-06-07T21:55:48.365129Z"
    },
    "papermill": {
     "duration": 0.018562,
     "end_time": "2023-06-07T21:55:48.367423",
     "exception": false,
     "start_time": "2023-06-07T21:55:48.348861",
     "status": "completed"
    },
    "tags": []
   },
   "outputs": [],
   "source": [
    "features_num = []\n",
    "features_cat = []\n",
    "\n",
    "for i in range(len(df.dtypes)):\n",
    "    if df.dtypes[i] == 'object':\n",
    "        features_cat.append(df.columns[i])\n",
    "    else:\n",
    "        features_num.append(df.columns[i])\n",
    "        \n",
    "transformer_num = make_pipeline(\n",
    "    SimpleImputer(strategy=\"constant\"), # there are a few missing values\n",
    "    StandardScaler(),\n",
    ")\n",
    "transformer_cat = make_pipeline(\n",
    "    SimpleImputer(strategy=\"constant\", fill_value=\"NA\"),\n",
    "    OneHotEncoder(handle_unknown='ignore'),\n",
    ")\n",
    "\n",
    "preprocessor = make_column_transformer(\n",
    "    (transformer_num, features_num),\n",
    "    (transformer_cat, features_cat),\n",
    ")"
   ]
  },
  {
   "cell_type": "code",
   "execution_count": 16,
   "id": "22eb0e9a",
   "metadata": {
    "execution": {
     "iopub.execute_input": "2023-06-07T21:55:48.384195Z",
     "iopub.status.busy": "2023-06-07T21:55:48.383822Z",
     "iopub.status.idle": "2023-06-07T21:55:48.440179Z",
     "shell.execute_reply": "2023-06-07T21:55:48.438266Z"
    },
    "papermill": {
     "duration": 0.067945,
     "end_time": "2023-06-07T21:55:48.442985",
     "exception": false,
     "start_time": "2023-06-07T21:55:48.375040",
     "status": "completed"
    },
    "tags": []
   },
   "outputs": [],
   "source": [
    "# stratify - make sure classes are evenlly represented across splits\n",
    "X_train, X_valid, y_train, y_valid = \\\n",
    "    train_test_split(df, target, stratify=target, train_size=0.75)\n",
    "\n",
    "X_train = preprocessor.fit_transform(X_train)\n",
    "X_valid = preprocessor.transform(X_valid)\n",
    "\n",
    "input_shape = [X_train.shape[1]]"
   ]
  },
  {
   "cell_type": "code",
   "execution_count": 17,
   "id": "ceb9ddcf",
   "metadata": {
    "execution": {
     "iopub.execute_input": "2023-06-07T21:55:48.460747Z",
     "iopub.status.busy": "2023-06-07T21:55:48.460327Z",
     "iopub.status.idle": "2023-06-07T21:55:55.514970Z",
     "shell.execute_reply": "2023-06-07T21:55:55.512984Z"
    },
    "papermill": {
     "duration": 7.066784,
     "end_time": "2023-06-07T21:55:55.517851",
     "exception": false,
     "start_time": "2023-06-07T21:55:48.451067",
     "status": "completed"
    },
    "tags": []
   },
   "outputs": [],
   "source": [
    "from tensorflow import keras\n",
    "from tensorflow.keras import layers\n",
    "\n",
    "model =  keras.Sequential([\n",
    "    layers.BatchNormalization(input_shape=input_shape),\n",
    "    layers.Dense(256, activation='selu'),\n",
    "    layers.BatchNormalization(),\n",
    "    layers.Dropout(0.3),\n",
    "    layers.Dense(256, activation='elu'),\n",
    "    layers.BatchNormalization(),\n",
    "    layers.Dropout(0.3),\n",
    "    layers.Dense(512, activation='relu'),\n",
    "    layers.BatchNormalization(),\n",
    "    layers.Dropout(0.3),\n",
    "    layers.Dense(1, activation='sigmoid'),\n",
    "])\n",
    "\n"
   ]
  },
  {
   "cell_type": "code",
   "execution_count": 18,
   "id": "4186e65d",
   "metadata": {
    "_kg_hide-output": true,
    "execution": {
     "iopub.execute_input": "2023-06-07T21:55:55.534510Z",
     "iopub.status.busy": "2023-06-07T21:55:55.534159Z",
     "iopub.status.idle": "2023-06-07T21:56:12.142721Z",
     "shell.execute_reply": "2023-06-07T21:56:12.141596Z"
    },
    "papermill": {
     "duration": 16.618955,
     "end_time": "2023-06-07T21:56:12.144524",
     "exception": false,
     "start_time": "2023-06-07T21:55:55.525569",
     "status": "completed"
    },
    "tags": []
   },
   "outputs": [
    {
     "name": "stdout",
     "output_type": "stream",
     "text": [
      "Epoch 1/200\n",
      "20/20 [==============================] - 2s 30ms/step - loss: 0.6010 - binary_accuracy: 0.7286 - val_loss: 0.4823 - val_binary_accuracy: 0.8090\n",
      "Epoch 2/200\n",
      "20/20 [==============================] - 0s 18ms/step - loss: 0.5158 - binary_accuracy: 0.7576 - val_loss: 0.4722 - val_binary_accuracy: 0.7989\n",
      "Epoch 3/200\n",
      "20/20 [==============================] - 0s 18ms/step - loss: 0.4832 - binary_accuracy: 0.7718 - val_loss: 0.4444 - val_binary_accuracy: 0.7948\n",
      "Epoch 4/200\n",
      "20/20 [==============================] - 0s 18ms/step - loss: 0.4629 - binary_accuracy: 0.7781 - val_loss: 0.4344 - val_binary_accuracy: 0.7918\n",
      "Epoch 5/200\n",
      "20/20 [==============================] - 0s 17ms/step - loss: 0.4599 - binary_accuracy: 0.7795 - val_loss: 0.4305 - val_binary_accuracy: 0.7960\n",
      "Epoch 6/200\n",
      "20/20 [==============================] - 0s 17ms/step - loss: 0.4424 - binary_accuracy: 0.7852 - val_loss: 0.4208 - val_binary_accuracy: 0.7930\n",
      "Epoch 7/200\n",
      "20/20 [==============================] - 0s 17ms/step - loss: 0.4364 - binary_accuracy: 0.7880 - val_loss: 0.4216 - val_binary_accuracy: 0.7806\n",
      "Epoch 8/200\n",
      "20/20 [==============================] - 0s 17ms/step - loss: 0.4239 - binary_accuracy: 0.7980 - val_loss: 0.4142 - val_binary_accuracy: 0.7948\n",
      "Epoch 9/200\n",
      "20/20 [==============================] - 0s 17ms/step - loss: 0.4275 - binary_accuracy: 0.7933 - val_loss: 0.4086 - val_binary_accuracy: 0.7907\n",
      "Epoch 10/200\n",
      "20/20 [==============================] - 0s 17ms/step - loss: 0.4195 - binary_accuracy: 0.7974 - val_loss: 0.4039 - val_binary_accuracy: 0.7942\n",
      "Epoch 11/200\n",
      "20/20 [==============================] - 0s 17ms/step - loss: 0.4179 - binary_accuracy: 0.8037 - val_loss: 0.4059 - val_binary_accuracy: 0.7966\n",
      "Epoch 12/200\n",
      "20/20 [==============================] - 0s 17ms/step - loss: 0.4088 - binary_accuracy: 0.8041 - val_loss: 0.4090 - val_binary_accuracy: 0.8007\n",
      "Epoch 13/200\n",
      "20/20 [==============================] - 0s 18ms/step - loss: 0.4149 - binary_accuracy: 0.8012 - val_loss: 0.3990 - val_binary_accuracy: 0.8037\n",
      "Epoch 14/200\n",
      "20/20 [==============================] - 0s 16ms/step - loss: 0.4093 - binary_accuracy: 0.8018 - val_loss: 0.4051 - val_binary_accuracy: 0.7930\n",
      "Epoch 15/200\n",
      "20/20 [==============================] - 0s 16ms/step - loss: 0.4074 - binary_accuracy: 0.8020 - val_loss: 0.4047 - val_binary_accuracy: 0.7936\n",
      "Epoch 16/200\n",
      "20/20 [==============================] - 0s 16ms/step - loss: 0.4039 - binary_accuracy: 0.8085 - val_loss: 0.4005 - val_binary_accuracy: 0.8007\n",
      "Epoch 17/200\n",
      "20/20 [==============================] - 0s 16ms/step - loss: 0.3999 - binary_accuracy: 0.8081 - val_loss: 0.3994 - val_binary_accuracy: 0.8001\n",
      "Epoch 18/200\n",
      "20/20 [==============================] - 0s 16ms/step - loss: 0.3908 - binary_accuracy: 0.8136 - val_loss: 0.3954 - val_binary_accuracy: 0.8114\n",
      "Epoch 19/200\n",
      "20/20 [==============================] - 0s 17ms/step - loss: 0.4003 - binary_accuracy: 0.8057 - val_loss: 0.3985 - val_binary_accuracy: 0.8013\n",
      "Epoch 20/200\n",
      "20/20 [==============================] - 0s 16ms/step - loss: 0.4012 - binary_accuracy: 0.8037 - val_loss: 0.4010 - val_binary_accuracy: 0.7948\n",
      "Epoch 21/200\n",
      "20/20 [==============================] - 0s 18ms/step - loss: 0.3987 - binary_accuracy: 0.8041 - val_loss: 0.4023 - val_binary_accuracy: 0.8031\n",
      "Epoch 22/200\n",
      "20/20 [==============================] - 0s 18ms/step - loss: 0.3971 - binary_accuracy: 0.8140 - val_loss: 0.3999 - val_binary_accuracy: 0.8007\n",
      "Epoch 23/200\n",
      "20/20 [==============================] - 0s 19ms/step - loss: 0.3933 - binary_accuracy: 0.8148 - val_loss: 0.3938 - val_binary_accuracy: 0.8025\n",
      "Epoch 24/200\n",
      "20/20 [==============================] - 0s 18ms/step - loss: 0.3896 - binary_accuracy: 0.8065 - val_loss: 0.3991 - val_binary_accuracy: 0.7960\n",
      "Epoch 25/200\n",
      "20/20 [==============================] - 0s 17ms/step - loss: 0.3879 - binary_accuracy: 0.8110 - val_loss: 0.4049 - val_binary_accuracy: 0.8013\n",
      "Epoch 26/200\n",
      "20/20 [==============================] - 0s 17ms/step - loss: 0.3919 - binary_accuracy: 0.8112 - val_loss: 0.4080 - val_binary_accuracy: 0.8007\n",
      "Epoch 27/200\n",
      "20/20 [==============================] - 0s 17ms/step - loss: 0.3852 - binary_accuracy: 0.8181 - val_loss: 0.3995 - val_binary_accuracy: 0.8025\n",
      "Epoch 28/200\n",
      "20/20 [==============================] - 0s 17ms/step - loss: 0.3868 - binary_accuracy: 0.8122 - val_loss: 0.3995 - val_binary_accuracy: 0.8060\n",
      "Epoch 29/200\n",
      "20/20 [==============================] - 0s 17ms/step - loss: 0.3798 - binary_accuracy: 0.8205 - val_loss: 0.4032 - val_binary_accuracy: 0.7978\n",
      "Epoch 30/200\n",
      "20/20 [==============================] - 0s 19ms/step - loss: 0.3771 - binary_accuracy: 0.8181 - val_loss: 0.4032 - val_binary_accuracy: 0.7995\n",
      "Epoch 31/200\n",
      "20/20 [==============================] - 0s 17ms/step - loss: 0.3842 - binary_accuracy: 0.8138 - val_loss: 0.3983 - val_binary_accuracy: 0.7978\n",
      "Epoch 32/200\n",
      "20/20 [==============================] - 0s 18ms/step - loss: 0.3865 - binary_accuracy: 0.8146 - val_loss: 0.3986 - val_binary_accuracy: 0.7978\n",
      "Epoch 33/200\n",
      "20/20 [==============================] - 0s 17ms/step - loss: 0.3814 - binary_accuracy: 0.8191 - val_loss: 0.4024 - val_binary_accuracy: 0.7989\n",
      "Epoch 34/200\n",
      "20/20 [==============================] - 0s 16ms/step - loss: 0.3799 - binary_accuracy: 0.8154 - val_loss: 0.3975 - val_binary_accuracy: 0.7978\n",
      "Epoch 35/200\n",
      "20/20 [==============================] - 0s 17ms/step - loss: 0.3795 - binary_accuracy: 0.8164 - val_loss: 0.3983 - val_binary_accuracy: 0.8043\n",
      "Epoch 36/200\n",
      "20/20 [==============================] - 0s 15ms/step - loss: 0.3771 - binary_accuracy: 0.8189 - val_loss: 0.3999 - val_binary_accuracy: 0.7972\n",
      "Epoch 37/200\n",
      "20/20 [==============================] - 0s 15ms/step - loss: 0.3829 - binary_accuracy: 0.8148 - val_loss: 0.4118 - val_binary_accuracy: 0.7912\n",
      "Epoch 38/200\n",
      "20/20 [==============================] - 0s 17ms/step - loss: 0.3780 - binary_accuracy: 0.8176 - val_loss: 0.4015 - val_binary_accuracy: 0.8084\n",
      "Epoch 39/200\n",
      "20/20 [==============================] - 0s 16ms/step - loss: 0.3840 - binary_accuracy: 0.8187 - val_loss: 0.4008 - val_binary_accuracy: 0.7983\n",
      "Epoch 40/200\n",
      "20/20 [==============================] - 0s 16ms/step - loss: 0.3826 - binary_accuracy: 0.8144 - val_loss: 0.4060 - val_binary_accuracy: 0.7983\n",
      "Epoch 41/200\n",
      "20/20 [==============================] - 0s 15ms/step - loss: 0.3707 - binary_accuracy: 0.8164 - val_loss: 0.4006 - val_binary_accuracy: 0.8013\n",
      "Epoch 42/200\n",
      "20/20 [==============================] - 0s 16ms/step - loss: 0.3793 - binary_accuracy: 0.8164 - val_loss: 0.4017 - val_binary_accuracy: 0.7936\n",
      "Epoch 43/200\n",
      "20/20 [==============================] - 0s 16ms/step - loss: 0.3766 - binary_accuracy: 0.8209 - val_loss: 0.4017 - val_binary_accuracy: 0.7972\n"
     ]
    },
    {
     "data": {
      "text/plain": [
       "<AxesSubplot:title={'center':'Accuracy'}>"
      ]
     },
     "execution_count": 18,
     "metadata": {},
     "output_type": "execute_result"
    },
    {
     "data": {
      "image/png": "[encoded data removed]",
      "text/plain": [
       "<Figure size 432x288 with 1 Axes>"
      ]
     },
     "metadata": {
      "needs_background": "light"
     },
     "output_type": "display_data"
    },
    {
     "data": {
      "image/png": "[encoded data removed]",
      "text/plain": [
       "<Figure size 432x288 with 1 Axes>"
      ]
     },
     "metadata": {
      "needs_background": "light"
     },
     "output_type": "display_data"
    }
   ],
   "source": [
    "model.compile(\n",
    "    optimizer='adam',\n",
    "    loss='binary_crossentropy',\n",
    "    metrics=['binary_accuracy'],\n",
    ")\n",
    "early_stopping = keras.callbacks.EarlyStopping(\n",
    "    patience=20,\n",
    "    min_delta=0.001,\n",
    "    restore_best_weights=True,\n",
    ")\n",
    "history = model.fit(\n",
    "    X_train, y_train,\n",
    "    validation_data=(X_valid, y_valid),\n",
    "    batch_size=256,\n",
    "    epochs=200,\n",
    "   \n",
    "    callbacks=[early_stopping],\n",
    ")\n",
    "\n",
    "history_df = pd.DataFrame(history.history)\n",
    "history_df.loc[:, ['loss', 'val_loss']].plot(title=\"Cross-entropy\")\n",
    "history_df.loc[:, ['binary_accuracy', 'val_binary_accuracy']].plot(title=\"Accuracy\")"
   ]
  },
  {
   "cell_type": "code",
   "execution_count": 19,
   "id": "b422c030",
   "metadata": {
    "execution": {
     "iopub.execute_input": "2023-06-07T21:56:12.192185Z",
     "iopub.status.busy": "2023-06-07T21:56:12.191833Z",
     "iopub.status.idle": "2023-06-07T21:56:12.567841Z",
     "shell.execute_reply": "2023-06-07T21:56:12.566857Z"
    },
    "papermill": {
     "duration": 0.402689,
     "end_time": "2023-06-07T21:56:12.570206",
     "exception": false,
     "start_time": "2023-06-07T21:56:12.167517",
     "status": "completed"
    },
    "tags": []
   },
   "outputs": [],
   "source": [
    "test_trans = preprocessor.fit_transform(test)\n",
    "y_pred = model.predict(test_trans)"
   ]
  },
  {
   "cell_type": "code",
   "execution_count": 20,
   "id": "79cf2b36",
   "metadata": {
    "execution": {
     "iopub.execute_input": "2023-06-07T21:56:12.617395Z",
     "iopub.status.busy": "2023-06-07T21:56:12.617026Z",
     "iopub.status.idle": "2023-06-07T21:56:12.643103Z",
     "shell.execute_reply": "2023-06-07T21:56:12.642077Z"
    },
    "papermill": {
     "duration": 0.05228,
     "end_time": "2023-06-07T21:56:12.645287",
     "exception": false,
     "start_time": "2023-06-07T21:56:12.593007",
     "status": "completed"
    },
    "tags": []
   },
   "outputs": [],
   "source": [
    "f = open ('/kaggle/working/submission.csv','w')\n",
    "f.write('PassengerId,Transported\\n')\n",
    "for i in range(len(y_pred)):\n",
    "    f.write(test.index[i])\n",
    "    f.write(',')\n",
    "    f.write(str(y_pred[i][0] > 0.5))\n",
    "    f.write('\\n')\n",
    "f.close()"
   ]
  },
  {
   "cell_type": "code",
   "execution_count": null,
   "id": "81c2a77d",
   "metadata": {
    "papermill": {
     "duration": 0.022611,
     "end_time": "2023-06-07T21:56:12.690843",
     "exception": false,
     "start_time": "2023-06-07T21:56:12.668232",
     "status": "completed"
    },
    "tags": []
   },
   "outputs": [],
   "source": []
  },
  {
   "cell_type": "code",
   "execution_count": null,
   "id": "2ddf7acc",
   "metadata": {
    "papermill": {
     "duration": 0.022796,
     "end_time": "2023-06-07T21:56:12.736382",
     "exception": false,
     "start_time": "2023-06-07T21:56:12.713586",
     "status": "completed"
    },
    "tags": []
   },
   "outputs": [],
   "source": []
  }
 ],
 "metadata": {
  "kernelspec": {
   "display_name": "Python 3",
   "language": "python",
   "name": "python3"
  },
  "language_info": {
   "codemirror_mode": {
    "name": "ipython",
    "version": 3
   },
   "file_extension": ".py",
   "mimetype": "text/x-python",
   "name": "python",
   "nbconvert_exporter": "python",
   "pygments_lexer": "ipython3",
   "version": "3.7.12"
  },
  "papermill": {
   "default_parameters": {},
   "duration": 39.721113,
   "end_time": "2023-06-07T21:56:15.899223",
   "environment_variables": {},
   "exception": null,
   "input_path": "__notebook__.ipynb",
   "output_path": "__notebook__.ipynb",
   "parameters": {},
   "start_time": "2023-06-07T21:55:36.178110",
   "version": "2.3.4"
  }
 },
 "nbformat": 4,
 "nbformat_minor": 5
}
